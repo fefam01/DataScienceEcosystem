{
 "cells": [
  {
   "cell_type": "markdown",
   "id": "211793b0",
   "metadata": {},
   "source": [
    "# Data Science Tools and Ecosystem"
   ]
  },
  {
   "cell_type": "markdown",
   "id": "2dd35f93",
   "metadata": {},
   "source": [
    "In this notebook, Data Science Tools and Ecosystem are summarized."
   ]
  },
  {
   "cell_type": "markdown",
   "id": "f63af03e",
   "metadata": {},
   "source": [
    "**Objectives:**\n",
    "\n",
    "- List popular languages of Data Science\n",
    "- Get to know some of the commonly used python libraries for Data Science\n",
    "- List different open-source tools\n",
    "- Show how arithmetic expressions are used in Python programming"
   ]
  },
  {
   "cell_type": "markdown",
   "id": "b7c023b6",
   "metadata": {},
   "source": [
    "Some of the most popular languages that Data Scientists use are:\n",
    "1. Python\n",
    "2. R\n",
    "3. SQL\n",
    "\n",
    "While other languages such as\n",
    "1. Julia\n",
    "2. Scala\n",
    "3. Java\n",
    "\n",
    "are also popular amongst Data Scientists."
   ]
  },
  {
   "cell_type": "markdown",
   "id": "97f60eb3",
   "metadata": {},
   "source": [
    "Some of the commonly used libraries used by Data Scientists using Python include:\n",
    "1. NumPy - allowing you to apply mathematical functions to arrays and matrices\n",
    "2. Pandas - built on top of NumPy, it lets you gather, manage and clean data easily in a two-dimensional table, called data frame\n",
    "3. Matplotlib - most well-known library for data visualization, popular for making graphs and plots\n",
    "4. Scikit - contains tools for statistical modeling, including regression, classification, clustering, etc"
   ]
  },
  {
   "cell_type": "markdown",
   "id": "58547109",
   "metadata": {},
   "source": [
    "Here is a table of some of the Open Source development environment tools used in data science\n",
    "| Data Science Tools |\n",
    "| ------------------ |\n",
    "| Jupyter Notebook |\n",
    "| R Studio |\n",
    "| Apache Zeppelin |"
   ]
  },
  {
   "cell_type": "markdown",
   "id": "34a2823b",
   "metadata": {},
   "source": [
    "### Below are a few examples of evaluating arithmetic expressions in Python"
   ]
  },
  {
   "cell_type": "code",
   "execution_count": 1,
   "id": "34c8fbc2",
   "metadata": {},
   "outputs": [
    {
     "data": {
      "text/plain": [
       "17"
      ]
     },
     "execution_count": 1,
     "metadata": {},
     "output_type": "execute_result"
    }
   ],
   "source": [
    "#This a simple arithmetic expression to mutiply then add integers\n",
    "(3*4)+5"
   ]
  },
  {
   "cell_type": "code",
   "execution_count": 3,
   "id": "1a7a4975",
   "metadata": {},
   "outputs": [
    {
     "data": {
      "text/plain": [
       "3.3333333333333335"
      ]
     },
     "execution_count": 3,
     "metadata": {},
     "output_type": "execute_result"
    }
   ],
   "source": [
    "#This will convert 200 minutes to hours by diving by 60\n",
    "200 / 60"
   ]
  },
  {
   "cell_type": "markdown",
   "id": "7cd66014",
   "metadata": {},
   "source": [
    "## Author\n",
    "Amir Fefer\n",
    "\n",
    "**Date:** 2023-09-25"
   ]
  },
  {
   "cell_type": "code",
   "execution_count": null,
   "id": "d848148c",
   "metadata": {},
   "outputs": [],
   "source": []
  }
 ],
 "metadata": {
  "kernelspec": {
   "display_name": "Python 3 (ipykernel)",
   "language": "python",
   "name": "python3"
  },
  "language_info": {
   "codemirror_mode": {
    "name": "ipython",
    "version": 3
   },
   "file_extension": ".py",
   "mimetype": "text/x-python",
   "name": "python",
   "nbconvert_exporter": "python",
   "pygments_lexer": "ipython3",
   "version": "3.11.5"
  }
 },
 "nbformat": 4,
 "nbformat_minor": 5
}
